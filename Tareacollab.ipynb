{
  "nbformat": 4,
  "nbformat_minor": 0,
  "metadata": {
    "colab": {
      "provenance": [],
      "authorship_tag": "ABX9TyMSoNoaKrdzDCGkMbjOAwxk",
      "include_colab_link": true
    },
    "kernelspec": {
      "name": "python3",
      "display_name": "Python 3"
    },
    "language_info": {
      "name": "python"
    }
  },
  "cells": [
    {
      "cell_type": "markdown",
      "metadata": {
        "id": "view-in-github",
        "colab_type": "text"
      },
      "source": [
        "<a href=\"https://colab.research.google.com/github/D4rK3N/Trabajo_Python_Publico/blob/main/Tareacollab.ipynb\" target=\"_parent\"><img src=\"https://colab.research.google.com/assets/colab-badge.svg\" alt=\"Open In Colab\"/></a>"
      ]
    },
    {
      "cell_type": "code",
      "source": [
        "#Javier Felipe Gómez Portela - 20211005083\n",
        "texto =str(input(\"escribe algo \"))\n",
        "print(f\"el numero de caracteres es: {len(texto)}\")\n",
        "n = 10-len(texto)\n",
        "print(f\"el numero de ceros es: {n}\")\n",
        "llenar0 = n*\"0\"\n",
        "print(llenar0+texto)\n"
      ],
      "metadata": {
        "colab": {
          "base_uri": "https://localhost:8080/"
        },
        "id": "I1Jf2QJyjs4j",
        "outputId": "2ee11210-be72-4fe9-a97d-f87faa1da0d2"
      },
      "execution_count": 4,
      "outputs": [
        {
          "output_type": "stream",
          "name": "stdout",
          "text": [
            "escribe algo zorro\n",
            "el numero de caracteres es: 5\n",
            "el numero de ceros es: 5\n",
            "00000zorro\n"
          ]
        }
      ]
    }
  ]
}